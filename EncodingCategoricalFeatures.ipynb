{
 "cells": [
  {
   "cell_type": "markdown",
   "metadata": {},
   "source": [
    "# Robustly Encoding categorical features\n",
    "\n",
    "The categorical features in the tabular playground series are stored as strings. They need to be encoded to something else to be used in machine learning models. I would like to build some encoding that is robust to having new categories that have not yet been seen in the training data."
   ]
  },
  {
   "cell_type": "markdown",
   "metadata": {},
   "source": [
    "# Load data"
   ]
  },
  {
   "cell_type": "code",
   "execution_count": 180,
   "metadata": {},
   "outputs": [],
   "source": [
    "import pandas as pd"
   ]
  },
  {
   "cell_type": "code",
   "execution_count": 181,
   "metadata": {},
   "outputs": [
    {
     "data": {
      "text/html": [
       "<div>\n",
       "<style scoped>\n",
       "    .dataframe tbody tr th:only-of-type {\n",
       "        vertical-align: middle;\n",
       "    }\n",
       "\n",
       "    .dataframe tbody tr th {\n",
       "        vertical-align: top;\n",
       "    }\n",
       "\n",
       "    .dataframe thead th {\n",
       "        text-align: right;\n",
       "    }\n",
       "</style>\n",
       "<table border=\"1\" class=\"dataframe\">\n",
       "  <thead>\n",
       "    <tr style=\"text-align: right;\">\n",
       "      <th></th>\n",
       "      <th>id</th>\n",
       "      <th>cat0</th>\n",
       "      <th>cat1</th>\n",
       "      <th>cat2</th>\n",
       "      <th>cat3</th>\n",
       "      <th>cat4</th>\n",
       "      <th>cat5</th>\n",
       "      <th>cat6</th>\n",
       "      <th>cat7</th>\n",
       "      <th>cat8</th>\n",
       "      <th>...</th>\n",
       "      <th>cont5</th>\n",
       "      <th>cont6</th>\n",
       "      <th>cont7</th>\n",
       "      <th>cont8</th>\n",
       "      <th>cont9</th>\n",
       "      <th>cont10</th>\n",
       "      <th>cont11</th>\n",
       "      <th>cont12</th>\n",
       "      <th>cont13</th>\n",
       "      <th>target</th>\n",
       "    </tr>\n",
       "  </thead>\n",
       "  <tbody>\n",
       "    <tr>\n",
       "      <th>0</th>\n",
       "      <td>1</td>\n",
       "      <td>A</td>\n",
       "      <td>B</td>\n",
       "      <td>A</td>\n",
       "      <td>A</td>\n",
       "      <td>B</td>\n",
       "      <td>D</td>\n",
       "      <td>A</td>\n",
       "      <td>E</td>\n",
       "      <td>C</td>\n",
       "      <td>...</td>\n",
       "      <td>0.881122</td>\n",
       "      <td>0.421650</td>\n",
       "      <td>0.741413</td>\n",
       "      <td>0.895799</td>\n",
       "      <td>0.802461</td>\n",
       "      <td>0.724417</td>\n",
       "      <td>0.701915</td>\n",
       "      <td>0.877618</td>\n",
       "      <td>0.719903</td>\n",
       "      <td>6.994023</td>\n",
       "    </tr>\n",
       "    <tr>\n",
       "      <th>1</th>\n",
       "      <td>2</td>\n",
       "      <td>B</td>\n",
       "      <td>A</td>\n",
       "      <td>A</td>\n",
       "      <td>A</td>\n",
       "      <td>B</td>\n",
       "      <td>B</td>\n",
       "      <td>A</td>\n",
       "      <td>E</td>\n",
       "      <td>A</td>\n",
       "      <td>...</td>\n",
       "      <td>0.440011</td>\n",
       "      <td>0.346230</td>\n",
       "      <td>0.278495</td>\n",
       "      <td>0.593413</td>\n",
       "      <td>0.546056</td>\n",
       "      <td>0.613252</td>\n",
       "      <td>0.741289</td>\n",
       "      <td>0.326679</td>\n",
       "      <td>0.808464</td>\n",
       "      <td>8.071256</td>\n",
       "    </tr>\n",
       "    <tr>\n",
       "      <th>2</th>\n",
       "      <td>3</td>\n",
       "      <td>A</td>\n",
       "      <td>A</td>\n",
       "      <td>A</td>\n",
       "      <td>C</td>\n",
       "      <td>B</td>\n",
       "      <td>D</td>\n",
       "      <td>A</td>\n",
       "      <td>B</td>\n",
       "      <td>C</td>\n",
       "      <td>...</td>\n",
       "      <td>0.914155</td>\n",
       "      <td>0.369602</td>\n",
       "      <td>0.832564</td>\n",
       "      <td>0.865620</td>\n",
       "      <td>0.825251</td>\n",
       "      <td>0.264104</td>\n",
       "      <td>0.695561</td>\n",
       "      <td>0.869133</td>\n",
       "      <td>0.828352</td>\n",
       "      <td>5.760456</td>\n",
       "    </tr>\n",
       "    <tr>\n",
       "      <th>3</th>\n",
       "      <td>4</td>\n",
       "      <td>A</td>\n",
       "      <td>A</td>\n",
       "      <td>A</td>\n",
       "      <td>C</td>\n",
       "      <td>B</td>\n",
       "      <td>D</td>\n",
       "      <td>A</td>\n",
       "      <td>E</td>\n",
       "      <td>G</td>\n",
       "      <td>...</td>\n",
       "      <td>0.934138</td>\n",
       "      <td>0.578930</td>\n",
       "      <td>0.407313</td>\n",
       "      <td>0.868099</td>\n",
       "      <td>0.794402</td>\n",
       "      <td>0.494269</td>\n",
       "      <td>0.698125</td>\n",
       "      <td>0.809799</td>\n",
       "      <td>0.614766</td>\n",
       "      <td>7.806457</td>\n",
       "    </tr>\n",
       "    <tr>\n",
       "      <th>4</th>\n",
       "      <td>6</td>\n",
       "      <td>A</td>\n",
       "      <td>B</td>\n",
       "      <td>A</td>\n",
       "      <td>A</td>\n",
       "      <td>B</td>\n",
       "      <td>B</td>\n",
       "      <td>A</td>\n",
       "      <td>E</td>\n",
       "      <td>C</td>\n",
       "      <td>...</td>\n",
       "      <td>0.382600</td>\n",
       "      <td>0.705940</td>\n",
       "      <td>0.325193</td>\n",
       "      <td>0.440967</td>\n",
       "      <td>0.462146</td>\n",
       "      <td>0.724447</td>\n",
       "      <td>0.683073</td>\n",
       "      <td>0.343457</td>\n",
       "      <td>0.297743</td>\n",
       "      <td>6.868974</td>\n",
       "    </tr>\n",
       "  </tbody>\n",
       "</table>\n",
       "<p>5 rows × 26 columns</p>\n",
       "</div>"
      ],
      "text/plain": [
       "   id cat0 cat1 cat2 cat3 cat4 cat5 cat6 cat7 cat8  ...     cont5     cont6  \\\n",
       "0   1    A    B    A    A    B    D    A    E    C  ...  0.881122  0.421650   \n",
       "1   2    B    A    A    A    B    B    A    E    A  ...  0.440011  0.346230   \n",
       "2   3    A    A    A    C    B    D    A    B    C  ...  0.914155  0.369602   \n",
       "3   4    A    A    A    C    B    D    A    E    G  ...  0.934138  0.578930   \n",
       "4   6    A    B    A    A    B    B    A    E    C  ...  0.382600  0.705940   \n",
       "\n",
       "      cont7     cont8     cont9    cont10    cont11    cont12    cont13  \\\n",
       "0  0.741413  0.895799  0.802461  0.724417  0.701915  0.877618  0.719903   \n",
       "1  0.278495  0.593413  0.546056  0.613252  0.741289  0.326679  0.808464   \n",
       "2  0.832564  0.865620  0.825251  0.264104  0.695561  0.869133  0.828352   \n",
       "3  0.407313  0.868099  0.794402  0.494269  0.698125  0.809799  0.614766   \n",
       "4  0.325193  0.440967  0.462146  0.724447  0.683073  0.343457  0.297743   \n",
       "\n",
       "     target  \n",
       "0  6.994023  \n",
       "1  8.071256  \n",
       "2  5.760456  \n",
       "3  7.806457  \n",
       "4  6.868974  \n",
       "\n",
       "[5 rows x 26 columns]"
      ]
     },
     "execution_count": 181,
     "metadata": {},
     "output_type": "execute_result"
    }
   ],
   "source": [
    "train = pd.read_csv('train.csv')\n",
    "test = pd.read_csv('test.csv')\n",
    "train.head()"
   ]
  },
  {
   "cell_type": "code",
   "execution_count": 182,
   "metadata": {},
   "outputs": [
    {
     "data": {
      "text/plain": [
       "['cat0',\n",
       " 'cat1',\n",
       " 'cat2',\n",
       " 'cat3',\n",
       " 'cat4',\n",
       " 'cat5',\n",
       " 'cat6',\n",
       " 'cat7',\n",
       " 'cat8',\n",
       " 'cat9']"
      ]
     },
     "execution_count": 182,
     "metadata": {},
     "output_type": "execute_result"
    }
   ],
   "source": [
    "cat_cols = [x for x in train.columns if x.startswith('cat')]\n",
    "cat_cols"
   ]
  },
  {
   "cell_type": "markdown",
   "metadata": {},
   "source": [
    "# Test sample with new categories to validate encodings"
   ]
  },
  {
   "cell_type": "code",
   "execution_count": 183,
   "metadata": {},
   "outputs": [
    {
     "data": {
      "text/html": [
       "<div>\n",
       "<style scoped>\n",
       "    .dataframe tbody tr th:only-of-type {\n",
       "        vertical-align: middle;\n",
       "    }\n",
       "\n",
       "    .dataframe tbody tr th {\n",
       "        vertical-align: top;\n",
       "    }\n",
       "\n",
       "    .dataframe thead th {\n",
       "        text-align: right;\n",
       "    }\n",
       "</style>\n",
       "<table border=\"1\" class=\"dataframe\">\n",
       "  <thead>\n",
       "    <tr style=\"text-align: right;\">\n",
       "      <th></th>\n",
       "      <th>id</th>\n",
       "      <th>cat0</th>\n",
       "      <th>cat1</th>\n",
       "      <th>cat2</th>\n",
       "      <th>cat3</th>\n",
       "      <th>cat4</th>\n",
       "      <th>cat5</th>\n",
       "      <th>cat6</th>\n",
       "      <th>cat7</th>\n",
       "      <th>cat8</th>\n",
       "      <th>...</th>\n",
       "      <th>cont4</th>\n",
       "      <th>cont5</th>\n",
       "      <th>cont6</th>\n",
       "      <th>cont7</th>\n",
       "      <th>cont8</th>\n",
       "      <th>cont9</th>\n",
       "      <th>cont10</th>\n",
       "      <th>cont11</th>\n",
       "      <th>cont12</th>\n",
       "      <th>cont13</th>\n",
       "    </tr>\n",
       "  </thead>\n",
       "  <tbody>\n",
       "    <tr>\n",
       "      <th>0</th>\n",
       "      <td>1</td>\n",
       "      <td>Z</td>\n",
       "      <td>Z</td>\n",
       "      <td>Z</td>\n",
       "      <td>Z</td>\n",
       "      <td>Z</td>\n",
       "      <td>Z</td>\n",
       "      <td>Z</td>\n",
       "      <td>Z</td>\n",
       "      <td>Z</td>\n",
       "      <td>...</td>\n",
       "      <td>0</td>\n",
       "      <td>0</td>\n",
       "      <td>0</td>\n",
       "      <td>0</td>\n",
       "      <td>0</td>\n",
       "      <td>0</td>\n",
       "      <td>0</td>\n",
       "      <td>0</td>\n",
       "      <td>0</td>\n",
       "      <td>0</td>\n",
       "    </tr>\n",
       "  </tbody>\n",
       "</table>\n",
       "<p>1 rows × 25 columns</p>\n",
       "</div>"
      ],
      "text/plain": [
       "   id cat0 cat1 cat2 cat3 cat4 cat5 cat6 cat7 cat8  ... cont4  cont5  cont6  \\\n",
       "0   1    Z    Z    Z    Z    Z    Z    Z    Z    Z  ...     0      0      0   \n",
       "\n",
       "   cont7  cont8  cont9  cont10  cont11  cont12  cont13  \n",
       "0      0      0      0       0       0       0       0  \n",
       "\n",
       "[1 rows x 25 columns]"
      ]
     },
     "execution_count": 183,
     "metadata": {},
     "output_type": "execute_result"
    }
   ],
   "source": [
    "test_new_cats = pd.DataFrame(columns=test.columns, data = [[1]+['Z']*len(cat_cols)+[0]*14])\n",
    "test_new_cats"
   ]
  },
  {
   "cell_type": "markdown",
   "metadata": {},
   "source": [
    "# Using the LabelEncoder\n",
    "The sklearn LabelEncoder can encode strings to some integer label."
   ]
  },
  {
   "cell_type": "code",
   "execution_count": 187,
   "metadata": {},
   "outputs": [],
   "source": [
    "from sklearn.preprocessing import LabelEncoder"
   ]
  },
  {
   "cell_type": "code",
   "execution_count": 188,
   "metadata": {},
   "outputs": [
    {
     "data": {
      "text/plain": [
       "LabelEncoder()"
      ]
     },
     "execution_count": 188,
     "metadata": {},
     "output_type": "execute_result"
    }
   ],
   "source": [
    "le = LabelEncoder()\n",
    "le.fit(train['cat8'])"
   ]
  },
  {
   "cell_type": "code",
   "execution_count": 189,
   "metadata": {},
   "outputs": [
    {
     "data": {
      "text/plain": [
       "array([0])"
      ]
     },
     "execution_count": 189,
     "metadata": {},
     "output_type": "execute_result"
    }
   ],
   "source": [
    "le.transform(['A'])"
   ]
  },
  {
   "cell_type": "markdown",
   "metadata": {},
   "source": [
    "The LabelEncoder is meant to encode the target variable, not the features. It cannot deal with not previously seen categories."
   ]
  },
  {
   "cell_type": "code",
   "execution_count": 190,
   "metadata": {},
   "outputs": [
    {
     "ename": "ValueError",
     "evalue": "y contains previously unseen labels: ['Z']",
     "output_type": "error",
     "traceback": [
      "\u001b[0;31m---------------------------------------------------------------------------\u001b[0m",
      "\u001b[0;31mValueError\u001b[0m                                Traceback (most recent call last)",
      "\u001b[0;32m<ipython-input-190-9569e0aaac63>\u001b[0m in \u001b[0;36m<module>\u001b[0;34m\u001b[0m\n\u001b[0;32m----> 1\u001b[0;31m \u001b[0mle\u001b[0m\u001b[0;34m.\u001b[0m\u001b[0mtransform\u001b[0m\u001b[0;34m(\u001b[0m\u001b[0;34m[\u001b[0m\u001b[0;34m'Z'\u001b[0m\u001b[0;34m]\u001b[0m\u001b[0;34m)\u001b[0m\u001b[0;34m\u001b[0m\u001b[0;34m\u001b[0m\u001b[0m\n\u001b[0m",
      "\u001b[0;32m~/anaconda3/lib/python3.8/site-packages/sklearn/preprocessing/_label.py\u001b[0m in \u001b[0;36mtransform\u001b[0;34m(self, y)\u001b[0m\n\u001b[1;32m    275\u001b[0m             \u001b[0;32mreturn\u001b[0m \u001b[0mnp\u001b[0m\u001b[0;34m.\u001b[0m\u001b[0marray\u001b[0m\u001b[0;34m(\u001b[0m\u001b[0;34m[\u001b[0m\u001b[0;34m]\u001b[0m\u001b[0;34m)\u001b[0m\u001b[0;34m\u001b[0m\u001b[0;34m\u001b[0m\u001b[0m\n\u001b[1;32m    276\u001b[0m \u001b[0;34m\u001b[0m\u001b[0m\n\u001b[0;32m--> 277\u001b[0;31m         \u001b[0m_\u001b[0m\u001b[0;34m,\u001b[0m \u001b[0my\u001b[0m \u001b[0;34m=\u001b[0m \u001b[0m_encode\u001b[0m\u001b[0;34m(\u001b[0m\u001b[0my\u001b[0m\u001b[0;34m,\u001b[0m \u001b[0muniques\u001b[0m\u001b[0;34m=\u001b[0m\u001b[0mself\u001b[0m\u001b[0;34m.\u001b[0m\u001b[0mclasses_\u001b[0m\u001b[0;34m,\u001b[0m \u001b[0mencode\u001b[0m\u001b[0;34m=\u001b[0m\u001b[0;32mTrue\u001b[0m\u001b[0;34m)\u001b[0m\u001b[0;34m\u001b[0m\u001b[0;34m\u001b[0m\u001b[0m\n\u001b[0m\u001b[1;32m    278\u001b[0m         \u001b[0;32mreturn\u001b[0m \u001b[0my\u001b[0m\u001b[0;34m\u001b[0m\u001b[0;34m\u001b[0m\u001b[0m\n\u001b[1;32m    279\u001b[0m \u001b[0;34m\u001b[0m\u001b[0m\n",
      "\u001b[0;32m~/anaconda3/lib/python3.8/site-packages/sklearn/preprocessing/_label.py\u001b[0m in \u001b[0;36m_encode\u001b[0;34m(values, uniques, encode, check_unknown)\u001b[0m\n\u001b[1;32m    119\u001b[0m         \u001b[0;32mreturn\u001b[0m \u001b[0mres\u001b[0m\u001b[0;34m\u001b[0m\u001b[0;34m\u001b[0m\u001b[0m\n\u001b[1;32m    120\u001b[0m     \u001b[0;32melse\u001b[0m\u001b[0;34m:\u001b[0m\u001b[0;34m\u001b[0m\u001b[0;34m\u001b[0m\u001b[0m\n\u001b[0;32m--> 121\u001b[0;31m         return _encode_numpy(values, uniques, encode,\n\u001b[0m\u001b[1;32m    122\u001b[0m                              check_unknown=check_unknown)\n\u001b[1;32m    123\u001b[0m \u001b[0;34m\u001b[0m\u001b[0m\n",
      "\u001b[0;32m~/anaconda3/lib/python3.8/site-packages/sklearn/preprocessing/_label.py\u001b[0m in \u001b[0;36m_encode_numpy\u001b[0;34m(values, uniques, encode, check_unknown)\u001b[0m\n\u001b[1;32m     48\u001b[0m             \u001b[0mdiff\u001b[0m \u001b[0;34m=\u001b[0m \u001b[0m_encode_check_unknown\u001b[0m\u001b[0;34m(\u001b[0m\u001b[0mvalues\u001b[0m\u001b[0;34m,\u001b[0m \u001b[0muniques\u001b[0m\u001b[0;34m)\u001b[0m\u001b[0;34m\u001b[0m\u001b[0;34m\u001b[0m\u001b[0m\n\u001b[1;32m     49\u001b[0m             \u001b[0;32mif\u001b[0m \u001b[0mdiff\u001b[0m\u001b[0;34m:\u001b[0m\u001b[0;34m\u001b[0m\u001b[0;34m\u001b[0m\u001b[0m\n\u001b[0;32m---> 50\u001b[0;31m                 raise ValueError(\"y contains previously unseen labels: %s\"\n\u001b[0m\u001b[1;32m     51\u001b[0m                                  % str(diff))\n\u001b[1;32m     52\u001b[0m         \u001b[0mencoded\u001b[0m \u001b[0;34m=\u001b[0m \u001b[0mnp\u001b[0m\u001b[0;34m.\u001b[0m\u001b[0msearchsorted\u001b[0m\u001b[0;34m(\u001b[0m\u001b[0muniques\u001b[0m\u001b[0;34m,\u001b[0m \u001b[0mvalues\u001b[0m\u001b[0;34m)\u001b[0m\u001b[0;34m\u001b[0m\u001b[0;34m\u001b[0m\u001b[0m\n",
      "\u001b[0;31mValueError\u001b[0m: y contains previously unseen labels: ['Z']"
     ]
    }
   ],
   "source": [
    "le.transform(['Z'])"
   ]
  },
  {
   "cell_type": "markdown",
   "metadata": {},
   "source": [
    "# Using pandas CategoricalDtype"
   ]
  },
  {
   "cell_type": "markdown",
   "metadata": {},
   "source": [
    "The CategoricalDtype from pandas can be used in many machine learning models, including LightGBM and CatBoost. I created a simple transformer that 'learns' the available categories from the training data and encodes strings to categories."
   ]
  },
  {
   "cell_type": "code",
   "execution_count": 221,
   "metadata": {},
   "outputs": [],
   "source": [
    "from sklearn.base import BaseEstimator, TransformerMixin\n",
    "from pandas.api.types import CategoricalDtype\n",
    "\n",
    "class CategoricalTransform(BaseEstimator, TransformerMixin):\n",
    "    def __init__(self, cat_cols):\n",
    "        self.cat_cols = cat_cols\n",
    "        \n",
    "    def _transform_column(self, col, col_name):\n",
    "        return col.astype(self.cat_type[col_name]) \n",
    "        \n",
    "    def transform(self, df, **transform_params):\n",
    "        df_cat = df.copy()\n",
    "        for col in self.cat_cols:\n",
    "            df_cat[col] = self._transform_column(df_cat[col], col)\n",
    "        return df_cat\n",
    "        \n",
    "    def fit(self, X, y=None, **fit_params):\n",
    "        self.cat_type = dict()\n",
    "        for col in self.cat_cols:\n",
    "            self.cat_type[col] = CategoricalDtype(X[col].unique())\n",
    "        return self"
   ]
  },
  {
   "cell_type": "code",
   "execution_count": 222,
   "metadata": {},
   "outputs": [],
   "source": [
    "ct = CategoricalTransform(cat_cols)"
   ]
  },
  {
   "cell_type": "code",
   "execution_count": 223,
   "metadata": {},
   "outputs": [
    {
     "name": "stdout",
     "output_type": "stream",
     "text": [
      "<class 'pandas.core.frame.DataFrame'>\n",
      "RangeIndex: 300000 entries, 0 to 299999\n",
      "Data columns (total 26 columns):\n",
      " #   Column  Non-Null Count   Dtype   \n",
      "---  ------  --------------   -----   \n",
      " 0   id      300000 non-null  int64   \n",
      " 1   cat0    300000 non-null  category\n",
      " 2   cat1    300000 non-null  category\n",
      " 3   cat2    300000 non-null  category\n",
      " 4   cat3    300000 non-null  category\n",
      " 5   cat4    300000 non-null  category\n",
      " 6   cat5    300000 non-null  category\n",
      " 7   cat6    300000 non-null  category\n",
      " 8   cat7    300000 non-null  category\n",
      " 9   cat8    300000 non-null  category\n",
      " 10  cat9    300000 non-null  category\n",
      " 11  cont0   300000 non-null  float64 \n",
      " 12  cont1   300000 non-null  float64 \n",
      " 13  cont2   300000 non-null  float64 \n",
      " 14  cont3   300000 non-null  float64 \n",
      " 15  cont4   300000 non-null  float64 \n",
      " 16  cont5   300000 non-null  float64 \n",
      " 17  cont6   300000 non-null  float64 \n",
      " 18  cont7   300000 non-null  float64 \n",
      " 19  cont8   300000 non-null  float64 \n",
      " 20  cont9   300000 non-null  float64 \n",
      " 21  cont10  300000 non-null  float64 \n",
      " 22  cont11  300000 non-null  float64 \n",
      " 23  cont12  300000 non-null  float64 \n",
      " 24  cont13  300000 non-null  float64 \n",
      " 25  target  300000 non-null  float64 \n",
      "dtypes: category(10), float64(15), int64(1)\n",
      "memory usage: 39.5 MB\n"
     ]
    }
   ],
   "source": [
    "t = ct.fit_transform(train)\n",
    "t.info()"
   ]
  },
  {
   "cell_type": "markdown",
   "metadata": {},
   "source": [
    "## Non-existing categories are encoded as NaN:"
   ]
  },
  {
   "cell_type": "code",
   "execution_count": 224,
   "metadata": {},
   "outputs": [
    {
     "data": {
      "text/html": [
       "<div>\n",
       "<style scoped>\n",
       "    .dataframe tbody tr th:only-of-type {\n",
       "        vertical-align: middle;\n",
       "    }\n",
       "\n",
       "    .dataframe tbody tr th {\n",
       "        vertical-align: top;\n",
       "    }\n",
       "\n",
       "    .dataframe thead th {\n",
       "        text-align: right;\n",
       "    }\n",
       "</style>\n",
       "<table border=\"1\" class=\"dataframe\">\n",
       "  <thead>\n",
       "    <tr style=\"text-align: right;\">\n",
       "      <th></th>\n",
       "      <th>id</th>\n",
       "      <th>cat0</th>\n",
       "      <th>cat1</th>\n",
       "      <th>cat2</th>\n",
       "      <th>cat3</th>\n",
       "      <th>cat4</th>\n",
       "      <th>cat5</th>\n",
       "      <th>cat6</th>\n",
       "      <th>cat7</th>\n",
       "      <th>cat8</th>\n",
       "      <th>...</th>\n",
       "      <th>cont4</th>\n",
       "      <th>cont5</th>\n",
       "      <th>cont6</th>\n",
       "      <th>cont7</th>\n",
       "      <th>cont8</th>\n",
       "      <th>cont9</th>\n",
       "      <th>cont10</th>\n",
       "      <th>cont11</th>\n",
       "      <th>cont12</th>\n",
       "      <th>cont13</th>\n",
       "    </tr>\n",
       "  </thead>\n",
       "  <tbody>\n",
       "    <tr>\n",
       "      <th>0</th>\n",
       "      <td>1</td>\n",
       "      <td>Z</td>\n",
       "      <td>Z</td>\n",
       "      <td>Z</td>\n",
       "      <td>Z</td>\n",
       "      <td>Z</td>\n",
       "      <td>Z</td>\n",
       "      <td>Z</td>\n",
       "      <td>Z</td>\n",
       "      <td>Z</td>\n",
       "      <td>...</td>\n",
       "      <td>0</td>\n",
       "      <td>0</td>\n",
       "      <td>0</td>\n",
       "      <td>0</td>\n",
       "      <td>0</td>\n",
       "      <td>0</td>\n",
       "      <td>0</td>\n",
       "      <td>0</td>\n",
       "      <td>0</td>\n",
       "      <td>0</td>\n",
       "    </tr>\n",
       "  </tbody>\n",
       "</table>\n",
       "<p>1 rows × 25 columns</p>\n",
       "</div>"
      ],
      "text/plain": [
       "   id cat0 cat1 cat2 cat3 cat4 cat5 cat6 cat7 cat8  ... cont4  cont5  cont6  \\\n",
       "0   1    Z    Z    Z    Z    Z    Z    Z    Z    Z  ...     0      0      0   \n",
       "\n",
       "   cont7  cont8  cont9  cont10  cont11  cont12  cont13  \n",
       "0      0      0      0       0       0       0       0  \n",
       "\n",
       "[1 rows x 25 columns]"
      ]
     },
     "execution_count": 224,
     "metadata": {},
     "output_type": "execute_result"
    }
   ],
   "source": [
    "test_new_cats"
   ]
  },
  {
   "cell_type": "code",
   "execution_count": 225,
   "metadata": {},
   "outputs": [
    {
     "data": {
      "text/html": [
       "<div>\n",
       "<style scoped>\n",
       "    .dataframe tbody tr th:only-of-type {\n",
       "        vertical-align: middle;\n",
       "    }\n",
       "\n",
       "    .dataframe tbody tr th {\n",
       "        vertical-align: top;\n",
       "    }\n",
       "\n",
       "    .dataframe thead th {\n",
       "        text-align: right;\n",
       "    }\n",
       "</style>\n",
       "<table border=\"1\" class=\"dataframe\">\n",
       "  <thead>\n",
       "    <tr style=\"text-align: right;\">\n",
       "      <th></th>\n",
       "      <th>id</th>\n",
       "      <th>cat0</th>\n",
       "      <th>cat1</th>\n",
       "      <th>cat2</th>\n",
       "      <th>cat3</th>\n",
       "      <th>cat4</th>\n",
       "      <th>cat5</th>\n",
       "      <th>cat6</th>\n",
       "      <th>cat7</th>\n",
       "      <th>cat8</th>\n",
       "      <th>...</th>\n",
       "      <th>cont4</th>\n",
       "      <th>cont5</th>\n",
       "      <th>cont6</th>\n",
       "      <th>cont7</th>\n",
       "      <th>cont8</th>\n",
       "      <th>cont9</th>\n",
       "      <th>cont10</th>\n",
       "      <th>cont11</th>\n",
       "      <th>cont12</th>\n",
       "      <th>cont13</th>\n",
       "    </tr>\n",
       "  </thead>\n",
       "  <tbody>\n",
       "    <tr>\n",
       "      <th>0</th>\n",
       "      <td>1</td>\n",
       "      <td>NaN</td>\n",
       "      <td>NaN</td>\n",
       "      <td>NaN</td>\n",
       "      <td>NaN</td>\n",
       "      <td>NaN</td>\n",
       "      <td>NaN</td>\n",
       "      <td>NaN</td>\n",
       "      <td>NaN</td>\n",
       "      <td>NaN</td>\n",
       "      <td>...</td>\n",
       "      <td>0</td>\n",
       "      <td>0</td>\n",
       "      <td>0</td>\n",
       "      <td>0</td>\n",
       "      <td>0</td>\n",
       "      <td>0</td>\n",
       "      <td>0</td>\n",
       "      <td>0</td>\n",
       "      <td>0</td>\n",
       "      <td>0</td>\n",
       "    </tr>\n",
       "  </tbody>\n",
       "</table>\n",
       "<p>1 rows × 25 columns</p>\n",
       "</div>"
      ],
      "text/plain": [
       "   id cat0 cat1 cat2 cat3 cat4 cat5 cat6 cat7 cat8  ... cont4  cont5  cont6  \\\n",
       "0   1  NaN  NaN  NaN  NaN  NaN  NaN  NaN  NaN  NaN  ...     0      0      0   \n",
       "\n",
       "   cont7  cont8  cont9  cont10  cont11  cont12  cont13  \n",
       "0      0      0      0       0       0       0       0  \n",
       "\n",
       "[1 rows x 25 columns]"
      ]
     },
     "execution_count": 225,
     "metadata": {},
     "output_type": "execute_result"
    }
   ],
   "source": [
    "ct.transform(test_new_cats)"
   ]
  },
  {
   "cell_type": "markdown",
   "metadata": {},
   "source": [
    "## The transformer can be embedded in a sklearn Pipeline"
   ]
  },
  {
   "cell_type": "code",
   "execution_count": 226,
   "metadata": {},
   "outputs": [],
   "source": [
    "from sklearn.pipeline import Pipeline\n",
    "from lightgbm.sklearn import LGBMRegressor\n",
    "p = Pipeline([('cat_trans', CategoricalTransform(cat_cols)), \n",
    "              ('lgbm', LGBMRegressor(n_jobs=-2))])"
   ]
  },
  {
   "cell_type": "code",
   "execution_count": 227,
   "metadata": {},
   "outputs": [
    {
     "data": {
      "text/plain": [
       "Pipeline(steps=[('cat_trans',\n",
       "                 CategoricalTransform(cat_cols=['cat0', 'cat1', 'cat2', 'cat3',\n",
       "                                                'cat4', 'cat5', 'cat6', 'cat7',\n",
       "                                                'cat8', 'cat9'])),\n",
       "                ('lgbm', LGBMRegressor(n_jobs=-2))])"
      ]
     },
     "execution_count": 227,
     "metadata": {},
     "output_type": "execute_result"
    }
   ],
   "source": [
    "x_train = train.drop(columns=['target','id'])\n",
    "y_train = train['target']\n",
    "p.fit(x_train, y_train)"
   ]
  },
  {
   "cell_type": "code",
   "execution_count": 228,
   "metadata": {},
   "outputs": [
    {
     "data": {
      "text/plain": [
       "array([7.62396118, 7.79491627, 7.61545603, ..., 7.47019117, 7.5067693 ,\n",
       "       7.40374487])"
      ]
     },
     "execution_count": 228,
     "metadata": {},
     "output_type": "execute_result"
    }
   ],
   "source": [
    "p.predict(test.drop(columns=['id']))"
   ]
  },
  {
   "cell_type": "code",
   "execution_count": 229,
   "metadata": {},
   "outputs": [
    {
     "data": {
      "text/plain": [
       "{'fit_time': array([1.3807838 , 1.39194703, 1.39730239, 1.37761903, 1.40416694]),\n",
       " 'score_time': array([0.13198853, 0.12257838, 0.1241498 , 0.12441874, 0.12701011]),\n",
       " 'test_score': array([-0.8458857 , -0.84599698, -0.84685842, -0.84714281, -0.84521346]),\n",
       " 'train_score': array([-0.83652531, -0.83677879, -0.83625818, -0.83637756, -0.83685619])}"
      ]
     },
     "execution_count": 229,
     "metadata": {},
     "output_type": "execute_result"
    }
   ],
   "source": [
    "from sklearn.model_selection import cross_validate\n",
    "scores = cross_validate(p, X=x_train, y=y_train, cv=5, return_train_score = True,\n",
    "                         scoring='neg_root_mean_squared_error')\n",
    "scores"
   ]
  },
  {
   "cell_type": "code",
   "execution_count": 230,
   "metadata": {},
   "outputs": [
    {
     "data": {
      "text/plain": [
       "-0.8462194722947265"
      ]
     },
     "execution_count": 230,
     "metadata": {},
     "output_type": "execute_result"
    }
   ],
   "source": [
    "scores['test_score'].mean()"
   ]
  },
  {
   "cell_type": "markdown",
   "metadata": {},
   "source": [
    "prediction with new categories"
   ]
  },
  {
   "cell_type": "code",
   "execution_count": 231,
   "metadata": {},
   "outputs": [
    {
     "data": {
      "text/plain": [
       "array([7.34958224])"
      ]
     },
     "execution_count": 231,
     "metadata": {},
     "output_type": "execute_result"
    }
   ],
   "source": [
    "p.predict(test_new_cats.drop(columns=['id']))"
   ]
  },
  {
   "cell_type": "markdown",
   "metadata": {},
   "source": [
    "# Transform to integer value\n",
    "If you need to transform to an integer value, for example to train an embedding in tensorflow, you can use the codes from the categorical feature instead. Below is a small transformer to do so."
   ]
  },
  {
   "cell_type": "code",
   "execution_count": 243,
   "metadata": {},
   "outputs": [],
   "source": [
    "class IntegerCategoricalTransform(CategoricalTransform):\n",
    "    def _transform_column(self, col, col_name):\n",
    "        return super()._transform_column(col, col_name).values.codes"
   ]
  },
  {
   "cell_type": "code",
   "execution_count": 244,
   "metadata": {},
   "outputs": [],
   "source": [
    "ct = IntegerCategoricalTransform(cat_cols)"
   ]
  },
  {
   "cell_type": "code",
   "execution_count": 245,
   "metadata": {},
   "outputs": [
    {
     "name": "stdout",
     "output_type": "stream",
     "text": [
      "<class 'pandas.core.frame.DataFrame'>\n",
      "RangeIndex: 300000 entries, 0 to 299999\n",
      "Data columns (total 26 columns):\n",
      " #   Column  Non-Null Count   Dtype  \n",
      "---  ------  --------------   -----  \n",
      " 0   id      300000 non-null  int64  \n",
      " 1   cat0    300000 non-null  int8   \n",
      " 2   cat1    300000 non-null  int8   \n",
      " 3   cat2    300000 non-null  int8   \n",
      " 4   cat3    300000 non-null  int8   \n",
      " 5   cat4    300000 non-null  int8   \n",
      " 6   cat5    300000 non-null  int8   \n",
      " 7   cat6    300000 non-null  int8   \n",
      " 8   cat7    300000 non-null  int8   \n",
      " 9   cat8    300000 non-null  int8   \n",
      " 10  cat9    300000 non-null  int8   \n",
      " 11  cont0   300000 non-null  float64\n",
      " 12  cont1   300000 non-null  float64\n",
      " 13  cont2   300000 non-null  float64\n",
      " 14  cont3   300000 non-null  float64\n",
      " 15  cont4   300000 non-null  float64\n",
      " 16  cont5   300000 non-null  float64\n",
      " 17  cont6   300000 non-null  float64\n",
      " 18  cont7   300000 non-null  float64\n",
      " 19  cont8   300000 non-null  float64\n",
      " 20  cont9   300000 non-null  float64\n",
      " 21  cont10  300000 non-null  float64\n",
      " 22  cont11  300000 non-null  float64\n",
      " 23  cont12  300000 non-null  float64\n",
      " 24  cont13  300000 non-null  float64\n",
      " 25  target  300000 non-null  float64\n",
      "dtypes: float64(15), int64(1), int8(10)\n",
      "memory usage: 39.5 MB\n"
     ]
    }
   ],
   "source": [
    "t = ct.fit_transform(train)\n",
    "t.info()"
   ]
  },
  {
   "cell_type": "markdown",
   "metadata": {},
   "source": [
    "## Missing values are encoded as -1"
   ]
  },
  {
   "cell_type": "code",
   "execution_count": 246,
   "metadata": {},
   "outputs": [
    {
     "data": {
      "text/html": [
       "<div>\n",
       "<style scoped>\n",
       "    .dataframe tbody tr th:only-of-type {\n",
       "        vertical-align: middle;\n",
       "    }\n",
       "\n",
       "    .dataframe tbody tr th {\n",
       "        vertical-align: top;\n",
       "    }\n",
       "\n",
       "    .dataframe thead th {\n",
       "        text-align: right;\n",
       "    }\n",
       "</style>\n",
       "<table border=\"1\" class=\"dataframe\">\n",
       "  <thead>\n",
       "    <tr style=\"text-align: right;\">\n",
       "      <th></th>\n",
       "      <th>id</th>\n",
       "      <th>cat0</th>\n",
       "      <th>cat1</th>\n",
       "      <th>cat2</th>\n",
       "      <th>cat3</th>\n",
       "      <th>cat4</th>\n",
       "      <th>cat5</th>\n",
       "      <th>cat6</th>\n",
       "      <th>cat7</th>\n",
       "      <th>cat8</th>\n",
       "      <th>...</th>\n",
       "      <th>cont4</th>\n",
       "      <th>cont5</th>\n",
       "      <th>cont6</th>\n",
       "      <th>cont7</th>\n",
       "      <th>cont8</th>\n",
       "      <th>cont9</th>\n",
       "      <th>cont10</th>\n",
       "      <th>cont11</th>\n",
       "      <th>cont12</th>\n",
       "      <th>cont13</th>\n",
       "    </tr>\n",
       "  </thead>\n",
       "  <tbody>\n",
       "    <tr>\n",
       "      <th>0</th>\n",
       "      <td>1</td>\n",
       "      <td>-1</td>\n",
       "      <td>-1</td>\n",
       "      <td>-1</td>\n",
       "      <td>-1</td>\n",
       "      <td>-1</td>\n",
       "      <td>-1</td>\n",
       "      <td>-1</td>\n",
       "      <td>-1</td>\n",
       "      <td>-1</td>\n",
       "      <td>...</td>\n",
       "      <td>0</td>\n",
       "      <td>0</td>\n",
       "      <td>0</td>\n",
       "      <td>0</td>\n",
       "      <td>0</td>\n",
       "      <td>0</td>\n",
       "      <td>0</td>\n",
       "      <td>0</td>\n",
       "      <td>0</td>\n",
       "      <td>0</td>\n",
       "    </tr>\n",
       "  </tbody>\n",
       "</table>\n",
       "<p>1 rows × 25 columns</p>\n",
       "</div>"
      ],
      "text/plain": [
       "   id  cat0  cat1  cat2  cat3  cat4  cat5  cat6  cat7  cat8  ...  cont4  \\\n",
       "0   1    -1    -1    -1    -1    -1    -1    -1    -1    -1  ...      0   \n",
       "\n",
       "   cont5  cont6  cont7  cont8  cont9  cont10  cont11  cont12  cont13  \n",
       "0      0      0      0      0      0       0       0       0       0  \n",
       "\n",
       "[1 rows x 25 columns]"
      ]
     },
     "execution_count": 246,
     "metadata": {},
     "output_type": "execute_result"
    }
   ],
   "source": [
    "ct.transform(test_new_cats)"
   ]
  },
  {
   "cell_type": "markdown",
   "metadata": {},
   "source": [
    "# Using this in a sklearn Pipeline\n",
    "Here I'm using CatBoost, as it is not trivial to use integer encoded features in the sklearn API of LightGBM."
   ]
  },
  {
   "cell_type": "code",
   "execution_count": 269,
   "metadata": {},
   "outputs": [],
   "source": [
    "from sklearn.pipeline import Pipeline\n",
    "from catboost import CatBoostRegressor\n",
    "p = Pipeline([('cat_trans', IntegerCategoricalTransform(cat_cols)), \n",
    "              ('cb', CatBoostRegressor(iterations=50, thread_count=3, cat_features=cat_cols))])"
   ]
  },
  {
   "cell_type": "code",
   "execution_count": 270,
   "metadata": {},
   "outputs": [
    {
     "name": "stdout",
     "output_type": "stream",
     "text": [
      "Learning rate set to 0.5\n",
      "0:\tlearn: 0.8752914\ttotal: 65ms\tremaining: 3.19s\n",
      "1:\tlearn: 0.8695146\ttotal: 131ms\tremaining: 3.14s\n",
      "2:\tlearn: 0.8653475\ttotal: 186ms\tremaining: 2.92s\n",
      "3:\tlearn: 0.8615959\ttotal: 248ms\tremaining: 2.85s\n",
      "4:\tlearn: 0.8593585\ttotal: 305ms\tremaining: 2.74s\n",
      "5:\tlearn: 0.8575339\ttotal: 368ms\tremaining: 2.7s\n",
      "6:\tlearn: 0.8564736\ttotal: 419ms\tremaining: 2.57s\n",
      "7:\tlearn: 0.8556105\ttotal: 473ms\tremaining: 2.48s\n",
      "8:\tlearn: 0.8546407\ttotal: 526ms\tremaining: 2.4s\n",
      "9:\tlearn: 0.8539448\ttotal: 579ms\tremaining: 2.31s\n",
      "10:\tlearn: 0.8531275\ttotal: 632ms\tremaining: 2.24s\n",
      "11:\tlearn: 0.8524850\ttotal: 690ms\tremaining: 2.18s\n",
      "12:\tlearn: 0.8519798\ttotal: 743ms\tremaining: 2.11s\n",
      "13:\tlearn: 0.8514680\ttotal: 797ms\tremaining: 2.05s\n",
      "14:\tlearn: 0.8510933\ttotal: 852ms\tremaining: 1.99s\n",
      "15:\tlearn: 0.8505936\ttotal: 902ms\tremaining: 1.92s\n",
      "16:\tlearn: 0.8502564\ttotal: 954ms\tremaining: 1.85s\n",
      "17:\tlearn: 0.8498441\ttotal: 1.01s\tremaining: 1.79s\n",
      "18:\tlearn: 0.8495924\ttotal: 1.06s\tremaining: 1.73s\n",
      "19:\tlearn: 0.8493048\ttotal: 1.11s\tremaining: 1.66s\n",
      "20:\tlearn: 0.8490098\ttotal: 1.16s\tremaining: 1.6s\n",
      "21:\tlearn: 0.8486736\ttotal: 1.22s\tremaining: 1.55s\n",
      "22:\tlearn: 0.8484675\ttotal: 1.27s\tremaining: 1.49s\n",
      "23:\tlearn: 0.8480555\ttotal: 1.32s\tremaining: 1.43s\n",
      "24:\tlearn: 0.8478158\ttotal: 1.38s\tremaining: 1.38s\n",
      "25:\tlearn: 0.8474699\ttotal: 1.43s\tremaining: 1.32s\n",
      "26:\tlearn: 0.8472247\ttotal: 1.48s\tremaining: 1.26s\n",
      "27:\tlearn: 0.8467783\ttotal: 1.54s\tremaining: 1.21s\n",
      "28:\tlearn: 0.8465744\ttotal: 1.59s\tremaining: 1.15s\n",
      "29:\tlearn: 0.8463840\ttotal: 1.65s\tremaining: 1.1s\n",
      "30:\tlearn: 0.8461050\ttotal: 1.7s\tremaining: 1.04s\n",
      "31:\tlearn: 0.8458284\ttotal: 1.75s\tremaining: 985ms\n",
      "32:\tlearn: 0.8455688\ttotal: 1.8s\tremaining: 930ms\n",
      "33:\tlearn: 0.8454026\ttotal: 1.86s\tremaining: 876ms\n",
      "34:\tlearn: 0.8450478\ttotal: 1.92s\tremaining: 823ms\n",
      "35:\tlearn: 0.8448241\ttotal: 1.98s\tremaining: 769ms\n",
      "36:\tlearn: 0.8446113\ttotal: 2.04s\tremaining: 718ms\n",
      "37:\tlearn: 0.8443382\ttotal: 2.11s\tremaining: 665ms\n",
      "38:\tlearn: 0.8440809\ttotal: 2.17s\tremaining: 612ms\n",
      "39:\tlearn: 0.8438147\ttotal: 2.23s\tremaining: 559ms\n",
      "40:\tlearn: 0.8436260\ttotal: 2.29s\tremaining: 502ms\n",
      "41:\tlearn: 0.8434896\ttotal: 2.34s\tremaining: 446ms\n",
      "42:\tlearn: 0.8433184\ttotal: 2.39s\tremaining: 390ms\n",
      "43:\tlearn: 0.8431172\ttotal: 2.45s\tremaining: 334ms\n",
      "44:\tlearn: 0.8429348\ttotal: 2.5s\tremaining: 278ms\n",
      "45:\tlearn: 0.8427753\ttotal: 2.55s\tremaining: 222ms\n",
      "46:\tlearn: 0.8425560\ttotal: 2.6s\tremaining: 166ms\n",
      "47:\tlearn: 0.8423930\ttotal: 2.66s\tremaining: 111ms\n",
      "48:\tlearn: 0.8422659\ttotal: 2.71s\tremaining: 55.3ms\n",
      "49:\tlearn: 0.8421052\ttotal: 2.76s\tremaining: 0us\n"
     ]
    },
    {
     "data": {
      "text/plain": [
       "Pipeline(steps=[('cat_trans',\n",
       "                 IntegerCategoricalTransform(cat_cols=['cat0', 'cat1', 'cat2',\n",
       "                                                       'cat3', 'cat4', 'cat5',\n",
       "                                                       'cat6', 'cat7', 'cat8',\n",
       "                                                       'cat9'])),\n",
       "                ('cb',\n",
       "                 <catboost.core.CatBoostRegressor object at 0x7f62683bdca0>)])"
      ]
     },
     "execution_count": 270,
     "metadata": {},
     "output_type": "execute_result"
    }
   ],
   "source": [
    "x_train = train.drop(columns=['target','id'])\n",
    "y_train = train['target']\n",
    "p.fit(x_train, y_train)"
   ]
  },
  {
   "cell_type": "code",
   "execution_count": 271,
   "metadata": {},
   "outputs": [
    {
     "data": {
      "text/plain": [
       "array([7.56977581, 7.84586832, 7.6672673 , ..., 7.52127828, 7.50150109,\n",
       "       7.38816294])"
      ]
     },
     "execution_count": 271,
     "metadata": {},
     "output_type": "execute_result"
    }
   ],
   "source": [
    "p.predict(test.drop(columns=['id']))"
   ]
  },
  {
   "cell_type": "code",
   "execution_count": 272,
   "metadata": {},
   "outputs": [
    {
     "name": "stdout",
     "output_type": "stream",
     "text": [
      "Learning rate set to 0.5\n",
      "0:\tlearn: 0.8749972\ttotal: 49.4ms\tremaining: 2.42s\n",
      "1:\tlearn: 0.8695887\ttotal: 100ms\tremaining: 2.41s\n",
      "2:\tlearn: 0.8658750\ttotal: 148ms\tremaining: 2.31s\n",
      "3:\tlearn: 0.8621802\ttotal: 194ms\tremaining: 2.23s\n",
      "4:\tlearn: 0.8603197\ttotal: 238ms\tremaining: 2.14s\n",
      "5:\tlearn: 0.8584933\ttotal: 286ms\tremaining: 2.1s\n",
      "6:\tlearn: 0.8572564\ttotal: 329ms\tremaining: 2.02s\n",
      "7:\tlearn: 0.8561371\ttotal: 371ms\tremaining: 1.95s\n",
      "8:\tlearn: 0.8555310\ttotal: 412ms\tremaining: 1.87s\n",
      "9:\tlearn: 0.8546609\ttotal: 454ms\tremaining: 1.81s\n",
      "10:\tlearn: 0.8540354\ttotal: 496ms\tremaining: 1.76s\n",
      "11:\tlearn: 0.8535526\ttotal: 538ms\tremaining: 1.71s\n",
      "12:\tlearn: 0.8528470\ttotal: 578ms\tremaining: 1.65s\n",
      "13:\tlearn: 0.8522906\ttotal: 621ms\tremaining: 1.6s\n",
      "14:\tlearn: 0.8517395\ttotal: 664ms\tremaining: 1.55s\n",
      "15:\tlearn: 0.8511970\ttotal: 708ms\tremaining: 1.5s\n",
      "16:\tlearn: 0.8506601\ttotal: 750ms\tremaining: 1.46s\n",
      "17:\tlearn: 0.8502955\ttotal: 792ms\tremaining: 1.41s\n",
      "18:\tlearn: 0.8498646\ttotal: 835ms\tremaining: 1.36s\n",
      "19:\tlearn: 0.8495852\ttotal: 875ms\tremaining: 1.31s\n",
      "20:\tlearn: 0.8493568\ttotal: 919ms\tremaining: 1.27s\n",
      "21:\tlearn: 0.8491340\ttotal: 963ms\tremaining: 1.23s\n",
      "22:\tlearn: 0.8487906\ttotal: 1s\tremaining: 1.18s\n",
      "23:\tlearn: 0.8484682\ttotal: 1.05s\tremaining: 1.13s\n",
      "24:\tlearn: 0.8482031\ttotal: 1.09s\tremaining: 1.09s\n",
      "25:\tlearn: 0.8479545\ttotal: 1.13s\tremaining: 1.04s\n",
      "26:\tlearn: 0.8471275\ttotal: 1.17s\tremaining: 995ms\n",
      "27:\tlearn: 0.8467993\ttotal: 1.21s\tremaining: 951ms\n",
      "28:\tlearn: 0.8464466\ttotal: 1.25s\tremaining: 906ms\n",
      "29:\tlearn: 0.8458931\ttotal: 1.29s\tremaining: 863ms\n",
      "30:\tlearn: 0.8454968\ttotal: 1.33s\tremaining: 819ms\n",
      "31:\tlearn: 0.8452231\ttotal: 1.38s\tremaining: 776ms\n",
      "32:\tlearn: 0.8449531\ttotal: 1.42s\tremaining: 732ms\n",
      "33:\tlearn: 0.8447209\ttotal: 1.46s\tremaining: 688ms\n",
      "34:\tlearn: 0.8444749\ttotal: 1.5s\tremaining: 645ms\n",
      "35:\tlearn: 0.8443150\ttotal: 1.55s\tremaining: 602ms\n",
      "36:\tlearn: 0.8440815\ttotal: 1.59s\tremaining: 558ms\n",
      "37:\tlearn: 0.8438247\ttotal: 1.63s\tremaining: 514ms\n",
      "38:\tlearn: 0.8435599\ttotal: 1.67s\tremaining: 471ms\n",
      "39:\tlearn: 0.8433531\ttotal: 1.71s\tremaining: 428ms\n",
      "40:\tlearn: 0.8431311\ttotal: 1.75s\tremaining: 385ms\n",
      "41:\tlearn: 0.8429322\ttotal: 1.79s\tremaining: 342ms\n",
      "42:\tlearn: 0.8426830\ttotal: 1.84s\tremaining: 299ms\n",
      "43:\tlearn: 0.8424996\ttotal: 1.88s\tremaining: 256ms\n",
      "44:\tlearn: 0.8422362\ttotal: 1.92s\tremaining: 213ms\n",
      "45:\tlearn: 0.8420812\ttotal: 1.96s\tremaining: 171ms\n",
      "46:\tlearn: 0.8418685\ttotal: 2s\tremaining: 128ms\n",
      "47:\tlearn: 0.8416987\ttotal: 2.04s\tremaining: 85.1ms\n",
      "48:\tlearn: 0.8415172\ttotal: 2.08s\tremaining: 42.5ms\n",
      "49:\tlearn: 0.8413215\ttotal: 2.13s\tremaining: 0us\n",
      "Learning rate set to 0.5\n",
      "0:\tlearn: 0.8744765\ttotal: 51.5ms\tremaining: 2.52s\n",
      "1:\tlearn: 0.8687194\ttotal: 104ms\tremaining: 2.5s\n",
      "2:\tlearn: 0.8654197\ttotal: 152ms\tremaining: 2.39s\n",
      "3:\tlearn: 0.8618047\ttotal: 199ms\tremaining: 2.29s\n",
      "4:\tlearn: 0.8599495\ttotal: 242ms\tremaining: 2.18s\n",
      "5:\tlearn: 0.8583063\ttotal: 289ms\tremaining: 2.12s\n",
      "6:\tlearn: 0.8567119\ttotal: 340ms\tremaining: 2.09s\n",
      "7:\tlearn: 0.8551225\ttotal: 382ms\tremaining: 2.01s\n",
      "8:\tlearn: 0.8543264\ttotal: 425ms\tremaining: 1.94s\n",
      "9:\tlearn: 0.8536550\ttotal: 468ms\tremaining: 1.87s\n",
      "10:\tlearn: 0.8530527\ttotal: 512ms\tremaining: 1.81s\n",
      "11:\tlearn: 0.8523542\ttotal: 554ms\tremaining: 1.75s\n",
      "12:\tlearn: 0.8516893\ttotal: 598ms\tremaining: 1.7s\n",
      "13:\tlearn: 0.8512781\ttotal: 643ms\tremaining: 1.65s\n",
      "14:\tlearn: 0.8506430\ttotal: 688ms\tremaining: 1.6s\n",
      "15:\tlearn: 0.8503094\ttotal: 731ms\tremaining: 1.55s\n",
      "16:\tlearn: 0.8499242\ttotal: 774ms\tremaining: 1.5s\n",
      "17:\tlearn: 0.8494873\ttotal: 819ms\tremaining: 1.46s\n",
      "18:\tlearn: 0.8491822\ttotal: 863ms\tremaining: 1.41s\n",
      "19:\tlearn: 0.8486605\ttotal: 908ms\tremaining: 1.36s\n",
      "20:\tlearn: 0.8483466\ttotal: 950ms\tremaining: 1.31s\n",
      "21:\tlearn: 0.8481314\ttotal: 993ms\tremaining: 1.26s\n",
      "22:\tlearn: 0.8478420\ttotal: 1.03s\tremaining: 1.21s\n",
      "23:\tlearn: 0.8475758\ttotal: 1.07s\tremaining: 1.16s\n",
      "24:\tlearn: 0.8472928\ttotal: 1.12s\tremaining: 1.12s\n",
      "25:\tlearn: 0.8469712\ttotal: 1.16s\tremaining: 1.07s\n",
      "26:\tlearn: 0.8467058\ttotal: 1.2s\tremaining: 1.02s\n",
      "27:\tlearn: 0.8464167\ttotal: 1.24s\tremaining: 976ms\n",
      "28:\tlearn: 0.8461324\ttotal: 1.28s\tremaining: 931ms\n",
      "29:\tlearn: 0.8459200\ttotal: 1.33s\tremaining: 886ms\n",
      "30:\tlearn: 0.8456198\ttotal: 1.37s\tremaining: 841ms\n",
      "31:\tlearn: 0.8452572\ttotal: 1.42s\tremaining: 798ms\n",
      "32:\tlearn: 0.8448821\ttotal: 1.46s\tremaining: 754ms\n",
      "33:\tlearn: 0.8446149\ttotal: 1.51s\tremaining: 710ms\n",
      "34:\tlearn: 0.8443625\ttotal: 1.55s\tremaining: 664ms\n",
      "35:\tlearn: 0.8441136\ttotal: 1.59s\tremaining: 620ms\n",
      "36:\tlearn: 0.8438296\ttotal: 1.64s\tremaining: 576ms\n",
      "37:\tlearn: 0.8435965\ttotal: 1.68s\tremaining: 531ms\n",
      "38:\tlearn: 0.8433754\ttotal: 1.73s\tremaining: 487ms\n",
      "39:\tlearn: 0.8431108\ttotal: 1.77s\tremaining: 443ms\n",
      "40:\tlearn: 0.8428492\ttotal: 1.82s\tremaining: 399ms\n",
      "41:\tlearn: 0.8426227\ttotal: 1.86s\tremaining: 354ms\n",
      "42:\tlearn: 0.8424816\ttotal: 1.9s\tremaining: 310ms\n",
      "43:\tlearn: 0.8422997\ttotal: 1.95s\tremaining: 265ms\n",
      "44:\tlearn: 0.8421140\ttotal: 1.99s\tremaining: 221ms\n",
      "45:\tlearn: 0.8419463\ttotal: 2.03s\tremaining: 177ms\n",
      "46:\tlearn: 0.8417512\ttotal: 2.08s\tremaining: 133ms\n",
      "47:\tlearn: 0.8415869\ttotal: 2.12s\tremaining: 88.3ms\n",
      "48:\tlearn: 0.8414266\ttotal: 2.16s\tremaining: 44.1ms\n",
      "49:\tlearn: 0.8412441\ttotal: 2.2s\tremaining: 0us\n",
      "Learning rate set to 0.5\n",
      "0:\tlearn: 0.8744482\ttotal: 49.6ms\tremaining: 2.43s\n",
      "1:\tlearn: 0.8685174\ttotal: 106ms\tremaining: 2.55s\n",
      "2:\tlearn: 0.8650009\ttotal: 147ms\tremaining: 2.31s\n",
      "3:\tlearn: 0.8614632\ttotal: 196ms\tremaining: 2.25s\n",
      "4:\tlearn: 0.8588986\ttotal: 242ms\tremaining: 2.17s\n",
      "5:\tlearn: 0.8573323\ttotal: 289ms\tremaining: 2.12s\n",
      "6:\tlearn: 0.8562509\ttotal: 332ms\tremaining: 2.04s\n",
      "7:\tlearn: 0.8553327\ttotal: 377ms\tremaining: 1.98s\n",
      "8:\tlearn: 0.8544734\ttotal: 421ms\tremaining: 1.92s\n",
      "9:\tlearn: 0.8534429\ttotal: 465ms\tremaining: 1.86s\n",
      "10:\tlearn: 0.8527769\ttotal: 515ms\tremaining: 1.83s\n",
      "11:\tlearn: 0.8521147\ttotal: 569ms\tremaining: 1.8s\n",
      "12:\tlearn: 0.8515424\ttotal: 619ms\tremaining: 1.76s\n",
      "13:\tlearn: 0.8510671\ttotal: 670ms\tremaining: 1.72s\n",
      "14:\tlearn: 0.8506124\ttotal: 722ms\tremaining: 1.68s\n",
      "15:\tlearn: 0.8502929\ttotal: 775ms\tremaining: 1.65s\n",
      "16:\tlearn: 0.8501464\ttotal: 812ms\tremaining: 1.57s\n",
      "17:\tlearn: 0.8497345\ttotal: 862ms\tremaining: 1.53s\n",
      "18:\tlearn: 0.8492712\ttotal: 914ms\tremaining: 1.49s\n",
      "19:\tlearn: 0.8490063\ttotal: 964ms\tremaining: 1.45s\n",
      "20:\tlearn: 0.8485070\ttotal: 1.01s\tremaining: 1.4s\n",
      "21:\tlearn: 0.8480523\ttotal: 1.07s\tremaining: 1.36s\n",
      "22:\tlearn: 0.8478290\ttotal: 1.12s\tremaining: 1.31s\n",
      "23:\tlearn: 0.8475119\ttotal: 1.17s\tremaining: 1.27s\n",
      "24:\tlearn: 0.8473157\ttotal: 1.22s\tremaining: 1.22s\n",
      "25:\tlearn: 0.8469790\ttotal: 1.27s\tremaining: 1.17s\n",
      "26:\tlearn: 0.8467506\ttotal: 1.32s\tremaining: 1.13s\n",
      "27:\tlearn: 0.8464592\ttotal: 1.37s\tremaining: 1.08s\n",
      "28:\tlearn: 0.8460180\ttotal: 1.43s\tremaining: 1.03s\n",
      "29:\tlearn: 0.8457081\ttotal: 1.47s\tremaining: 979ms\n",
      "30:\tlearn: 0.8453781\ttotal: 1.51s\tremaining: 927ms\n",
      "31:\tlearn: 0.8450779\ttotal: 1.56s\tremaining: 876ms\n",
      "32:\tlearn: 0.8447818\ttotal: 1.6s\tremaining: 825ms\n",
      "33:\tlearn: 0.8445513\ttotal: 1.65s\tremaining: 774ms\n",
      "34:\tlearn: 0.8442948\ttotal: 1.69s\tremaining: 724ms\n",
      "35:\tlearn: 0.8439765\ttotal: 1.73s\tremaining: 674ms\n",
      "36:\tlearn: 0.8437937\ttotal: 1.77s\tremaining: 624ms\n",
      "37:\tlearn: 0.8434999\ttotal: 1.82s\tremaining: 574ms\n",
      "38:\tlearn: 0.8432151\ttotal: 1.86s\tremaining: 525ms\n",
      "39:\tlearn: 0.8428794\ttotal: 1.9s\tremaining: 476ms\n",
      "40:\tlearn: 0.8427040\ttotal: 1.95s\tremaining: 427ms\n",
      "41:\tlearn: 0.8424458\ttotal: 1.99s\tremaining: 379ms\n",
      "42:\tlearn: 0.8422756\ttotal: 2.03s\tremaining: 330ms\n",
      "43:\tlearn: 0.8420725\ttotal: 2.07s\tremaining: 282ms\n",
      "44:\tlearn: 0.8418606\ttotal: 2.11s\tremaining: 235ms\n",
      "45:\tlearn: 0.8416330\ttotal: 2.15s\tremaining: 187ms\n",
      "46:\tlearn: 0.8414427\ttotal: 2.2s\tremaining: 140ms\n",
      "47:\tlearn: 0.8413413\ttotal: 2.24s\tremaining: 93.3ms\n",
      "48:\tlearn: 0.8410689\ttotal: 2.28s\tremaining: 46.6ms\n",
      "49:\tlearn: 0.8409058\ttotal: 2.32s\tremaining: 0us\n",
      "Learning rate set to 0.5\n",
      "0:\tlearn: 0.8743975\ttotal: 53.3ms\tremaining: 2.61s\n",
      "1:\tlearn: 0.8687614\ttotal: 111ms\tremaining: 2.67s\n",
      "2:\tlearn: 0.8643303\ttotal: 161ms\tremaining: 2.52s\n",
      "3:\tlearn: 0.8615307\ttotal: 206ms\tremaining: 2.37s\n",
      "4:\tlearn: 0.8591198\ttotal: 253ms\tremaining: 2.27s\n",
      "5:\tlearn: 0.8573485\ttotal: 299ms\tremaining: 2.19s\n",
      "6:\tlearn: 0.8559403\ttotal: 344ms\tremaining: 2.11s\n",
      "7:\tlearn: 0.8548812\ttotal: 386ms\tremaining: 2.03s\n",
      "8:\tlearn: 0.8538789\ttotal: 427ms\tremaining: 1.95s\n",
      "9:\tlearn: 0.8529652\ttotal: 472ms\tremaining: 1.89s\n",
      "10:\tlearn: 0.8524557\ttotal: 515ms\tremaining: 1.83s\n",
      "11:\tlearn: 0.8518678\ttotal: 556ms\tremaining: 1.76s\n"
     ]
    },
    {
     "name": "stdout",
     "output_type": "stream",
     "text": [
      "12:\tlearn: 0.8514679\ttotal: 598ms\tremaining: 1.7s\n",
      "13:\tlearn: 0.8510980\ttotal: 639ms\tremaining: 1.64s\n",
      "14:\tlearn: 0.8507506\ttotal: 681ms\tremaining: 1.59s\n",
      "15:\tlearn: 0.8503690\ttotal: 723ms\tremaining: 1.54s\n",
      "16:\tlearn: 0.8500481\ttotal: 764ms\tremaining: 1.48s\n",
      "17:\tlearn: 0.8495696\ttotal: 807ms\tremaining: 1.43s\n",
      "18:\tlearn: 0.8491125\ttotal: 852ms\tremaining: 1.39s\n",
      "19:\tlearn: 0.8490056\ttotal: 883ms\tremaining: 1.32s\n",
      "20:\tlearn: 0.8487024\ttotal: 926ms\tremaining: 1.28s\n",
      "21:\tlearn: 0.8484041\ttotal: 969ms\tremaining: 1.23s\n",
      "22:\tlearn: 0.8480921\ttotal: 1.01s\tremaining: 1.19s\n",
      "23:\tlearn: 0.8476652\ttotal: 1.05s\tremaining: 1.14s\n",
      "24:\tlearn: 0.8472241\ttotal: 1.09s\tremaining: 1.09s\n",
      "25:\tlearn: 0.8468791\ttotal: 1.14s\tremaining: 1.05s\n",
      "26:\tlearn: 0.8465537\ttotal: 1.18s\tremaining: 1s\n",
      "27:\tlearn: 0.8462464\ttotal: 1.22s\tremaining: 959ms\n",
      "28:\tlearn: 0.8459922\ttotal: 1.26s\tremaining: 915ms\n",
      "29:\tlearn: 0.8457167\ttotal: 1.31s\tremaining: 872ms\n",
      "30:\tlearn: 0.8454435\ttotal: 1.35s\tremaining: 828ms\n",
      "31:\tlearn: 0.8451320\ttotal: 1.39s\tremaining: 783ms\n",
      "32:\tlearn: 0.8448246\ttotal: 1.44s\tremaining: 739ms\n",
      "33:\tlearn: 0.8444716\ttotal: 1.48s\tremaining: 697ms\n",
      "34:\tlearn: 0.8442080\ttotal: 1.52s\tremaining: 653ms\n",
      "35:\tlearn: 0.8439685\ttotal: 1.56s\tremaining: 609ms\n",
      "36:\tlearn: 0.8437523\ttotal: 1.6s\tremaining: 564ms\n",
      "37:\tlearn: 0.8435228\ttotal: 1.65s\tremaining: 521ms\n",
      "38:\tlearn: 0.8433000\ttotal: 1.69s\tremaining: 477ms\n",
      "39:\tlearn: 0.8430775\ttotal: 1.74s\tremaining: 434ms\n",
      "40:\tlearn: 0.8428263\ttotal: 1.78s\tremaining: 391ms\n",
      "41:\tlearn: 0.8425867\ttotal: 1.82s\tremaining: 347ms\n",
      "42:\tlearn: 0.8422574\ttotal: 1.87s\tremaining: 304ms\n",
      "43:\tlearn: 0.8420465\ttotal: 1.91s\tremaining: 260ms\n",
      "44:\tlearn: 0.8418503\ttotal: 1.95s\tremaining: 217ms\n",
      "45:\tlearn: 0.8416381\ttotal: 1.99s\tremaining: 173ms\n",
      "46:\tlearn: 0.8414664\ttotal: 2.03s\tremaining: 130ms\n",
      "47:\tlearn: 0.8412423\ttotal: 2.08s\tremaining: 86.6ms\n",
      "48:\tlearn: 0.8410538\ttotal: 2.12s\tremaining: 43.3ms\n",
      "49:\tlearn: 0.8408640\ttotal: 2.16s\tremaining: 0us\n",
      "Learning rate set to 0.5\n",
      "0:\tlearn: 0.8748482\ttotal: 50.2ms\tremaining: 2.46s\n",
      "1:\tlearn: 0.8691401\ttotal: 101ms\tremaining: 2.43s\n",
      "2:\tlearn: 0.8654809\ttotal: 146ms\tremaining: 2.29s\n",
      "3:\tlearn: 0.8623187\ttotal: 191ms\tremaining: 2.19s\n",
      "4:\tlearn: 0.8597134\ttotal: 239ms\tremaining: 2.15s\n",
      "5:\tlearn: 0.8579329\ttotal: 287ms\tremaining: 2.1s\n",
      "6:\tlearn: 0.8565587\ttotal: 328ms\tremaining: 2.02s\n",
      "7:\tlearn: 0.8551350\ttotal: 376ms\tremaining: 1.97s\n",
      "8:\tlearn: 0.8542983\ttotal: 417ms\tremaining: 1.9s\n",
      "9:\tlearn: 0.8537016\ttotal: 461ms\tremaining: 1.84s\n",
      "10:\tlearn: 0.8533162\ttotal: 507ms\tremaining: 1.8s\n",
      "11:\tlearn: 0.8527815\ttotal: 550ms\tremaining: 1.74s\n",
      "12:\tlearn: 0.8521369\ttotal: 590ms\tremaining: 1.68s\n",
      "13:\tlearn: 0.8516440\ttotal: 632ms\tremaining: 1.63s\n",
      "14:\tlearn: 0.8512490\ttotal: 671ms\tremaining: 1.56s\n",
      "15:\tlearn: 0.8510063\ttotal: 713ms\tremaining: 1.51s\n",
      "16:\tlearn: 0.8506548\ttotal: 755ms\tremaining: 1.47s\n",
      "17:\tlearn: 0.8502289\ttotal: 799ms\tremaining: 1.42s\n",
      "18:\tlearn: 0.8499466\ttotal: 840ms\tremaining: 1.37s\n",
      "19:\tlearn: 0.8495192\ttotal: 883ms\tremaining: 1.32s\n",
      "20:\tlearn: 0.8491749\ttotal: 924ms\tremaining: 1.28s\n",
      "21:\tlearn: 0.8487711\ttotal: 966ms\tremaining: 1.23s\n",
      "22:\tlearn: 0.8485821\ttotal: 1.01s\tremaining: 1.18s\n",
      "23:\tlearn: 0.8480821\ttotal: 1.05s\tremaining: 1.14s\n",
      "24:\tlearn: 0.8477793\ttotal: 1.09s\tremaining: 1.09s\n",
      "25:\tlearn: 0.8474077\ttotal: 1.13s\tremaining: 1.04s\n",
      "26:\tlearn: 0.8470529\ttotal: 1.18s\tremaining: 1s\n",
      "27:\tlearn: 0.8467118\ttotal: 1.22s\tremaining: 957ms\n",
      "28:\tlearn: 0.8463986\ttotal: 1.26s\tremaining: 913ms\n",
      "29:\tlearn: 0.8460896\ttotal: 1.3s\tremaining: 867ms\n",
      "30:\tlearn: 0.8458259\ttotal: 1.34s\tremaining: 825ms\n",
      "31:\tlearn: 0.8454216\ttotal: 1.39s\tremaining: 780ms\n",
      "32:\tlearn: 0.8451754\ttotal: 1.43s\tremaining: 736ms\n",
      "33:\tlearn: 0.8449386\ttotal: 1.47s\tremaining: 693ms\n",
      "34:\tlearn: 0.8446936\ttotal: 1.51s\tremaining: 648ms\n",
      "35:\tlearn: 0.8443987\ttotal: 1.55s\tremaining: 605ms\n",
      "36:\tlearn: 0.8441809\ttotal: 1.6s\tremaining: 561ms\n",
      "37:\tlearn: 0.8439802\ttotal: 1.64s\tremaining: 518ms\n",
      "38:\tlearn: 0.8438385\ttotal: 1.69s\tremaining: 476ms\n",
      "39:\tlearn: 0.8436146\ttotal: 1.73s\tremaining: 433ms\n",
      "40:\tlearn: 0.8433681\ttotal: 1.78s\tremaining: 390ms\n",
      "41:\tlearn: 0.8431868\ttotal: 1.82s\tremaining: 346ms\n",
      "42:\tlearn: 0.8430041\ttotal: 1.86s\tremaining: 303ms\n",
      "43:\tlearn: 0.8428325\ttotal: 1.9s\tremaining: 259ms\n",
      "44:\tlearn: 0.8426613\ttotal: 1.94s\tremaining: 216ms\n",
      "45:\tlearn: 0.8424782\ttotal: 1.99s\tremaining: 173ms\n",
      "46:\tlearn: 0.8422451\ttotal: 2.03s\tremaining: 130ms\n",
      "47:\tlearn: 0.8420937\ttotal: 2.07s\tremaining: 86.3ms\n",
      "48:\tlearn: 0.8418897\ttotal: 2.12s\tremaining: 43.2ms\n",
      "49:\tlearn: 0.8416989\ttotal: 2.16s\tremaining: 0us\n"
     ]
    },
    {
     "data": {
      "text/plain": [
       "{'fit_time': array([6.54078436, 6.66119599, 6.72755527, 6.57151961, 6.61343169]),\n",
       " 'score_time': array([1.0065434 , 1.01369572, 1.02134514, 1.01544619, 1.01414657]),\n",
       " 'test_score': array([-0.84647447, -0.84604765, -0.84793436, -0.84749195, -0.84542941]),\n",
       " 'train_score': array([-0.84114496, -0.84112825, -0.84081544, -0.84076416, -0.84156822])}"
      ]
     },
     "execution_count": 272,
     "metadata": {},
     "output_type": "execute_result"
    }
   ],
   "source": [
    "from sklearn.model_selection import cross_validate\n",
    "scores = cross_validate(p, X=x_train, y=y_train, cv=5, return_train_score = True,\n",
    "                         scoring='neg_root_mean_squared_error')\n",
    "scores"
   ]
  },
  {
   "cell_type": "code",
   "execution_count": 273,
   "metadata": {},
   "outputs": [
    {
     "data": {
      "text/plain": [
       "-0.8466755696380319"
      ]
     },
     "execution_count": 273,
     "metadata": {},
     "output_type": "execute_result"
    }
   ],
   "source": [
    "scores['test_score'].mean()"
   ]
  },
  {
   "cell_type": "code",
   "execution_count": 274,
   "metadata": {},
   "outputs": [
    {
     "data": {
      "text/plain": [
       "array([7.07252767])"
      ]
     },
     "execution_count": 274,
     "metadata": {},
     "output_type": "execute_result"
    }
   ],
   "source": [
    "p.predict(test_new_cats.drop(columns=['id']))"
   ]
  },
  {
   "cell_type": "markdown",
   "metadata": {},
   "source": [
    "# One hot encoding\n",
    "Robust One hot encoding can be achieved by chaining the categorical transformer with the OneHotTransform below."
   ]
  },
  {
   "cell_type": "code",
   "execution_count": 304,
   "metadata": {},
   "outputs": [],
   "source": [
    "from sklearn.base import BaseEstimator, TransformerMixin\n",
    "\n",
    "class OneHotTransform(BaseEstimator, TransformerMixin):\n",
    "    def transform(self, df, **transform_params):\n",
    "        return pd.get_dummies(df)\n",
    "    \n",
    "    def fit(self, X, y=None, **fit_params):\n",
    "        return self"
   ]
  },
  {
   "cell_type": "code",
   "execution_count": 305,
   "metadata": {},
   "outputs": [],
   "source": [
    "oh_pipe = Pipeline([('cat_trans', CategoricalTransform(cat_cols)),\n",
    "                    ('oh_trans', OneHotTransform())])"
   ]
  },
  {
   "cell_type": "code",
   "execution_count": 306,
   "metadata": {},
   "outputs": [
    {
     "data": {
      "text/html": [
       "<div>\n",
       "<style scoped>\n",
       "    .dataframe tbody tr th:only-of-type {\n",
       "        vertical-align: middle;\n",
       "    }\n",
       "\n",
       "    .dataframe tbody tr th {\n",
       "        vertical-align: top;\n",
       "    }\n",
       "\n",
       "    .dataframe thead th {\n",
       "        text-align: right;\n",
       "    }\n",
       "</style>\n",
       "<table border=\"1\" class=\"dataframe\">\n",
       "  <thead>\n",
       "    <tr style=\"text-align: right;\">\n",
       "      <th></th>\n",
       "      <th>id</th>\n",
       "      <th>cont0</th>\n",
       "      <th>cont1</th>\n",
       "      <th>cont2</th>\n",
       "      <th>cont3</th>\n",
       "      <th>cont4</th>\n",
       "      <th>cont5</th>\n",
       "      <th>cont6</th>\n",
       "      <th>cont7</th>\n",
       "      <th>cont8</th>\n",
       "      <th>...</th>\n",
       "      <th>cat9_L</th>\n",
       "      <th>cat9_G</th>\n",
       "      <th>cat9_H</th>\n",
       "      <th>cat9_O</th>\n",
       "      <th>cat9_A</th>\n",
       "      <th>cat9_J</th>\n",
       "      <th>cat9_M</th>\n",
       "      <th>cat9_C</th>\n",
       "      <th>cat9_D</th>\n",
       "      <th>cat9_E</th>\n",
       "    </tr>\n",
       "  </thead>\n",
       "  <tbody>\n",
       "    <tr>\n",
       "      <th>0</th>\n",
       "      <td>1</td>\n",
       "      <td>0.923191</td>\n",
       "      <td>0.684968</td>\n",
       "      <td>0.124454</td>\n",
       "      <td>0.217886</td>\n",
       "      <td>0.281421</td>\n",
       "      <td>0.881122</td>\n",
       "      <td>0.421650</td>\n",
       "      <td>0.741413</td>\n",
       "      <td>0.895799</td>\n",
       "      <td>...</td>\n",
       "      <td>0</td>\n",
       "      <td>0</td>\n",
       "      <td>0</td>\n",
       "      <td>0</td>\n",
       "      <td>0</td>\n",
       "      <td>0</td>\n",
       "      <td>0</td>\n",
       "      <td>0</td>\n",
       "      <td>0</td>\n",
       "      <td>0</td>\n",
       "    </tr>\n",
       "    <tr>\n",
       "      <th>1</th>\n",
       "      <td>2</td>\n",
       "      <td>0.437627</td>\n",
       "      <td>0.014213</td>\n",
       "      <td>0.357438</td>\n",
       "      <td>0.846127</td>\n",
       "      <td>0.282354</td>\n",
       "      <td>0.440011</td>\n",
       "      <td>0.346230</td>\n",
       "      <td>0.278495</td>\n",
       "      <td>0.593413</td>\n",
       "      <td>...</td>\n",
       "      <td>0</td>\n",
       "      <td>0</td>\n",
       "      <td>0</td>\n",
       "      <td>0</td>\n",
       "      <td>0</td>\n",
       "      <td>0</td>\n",
       "      <td>0</td>\n",
       "      <td>0</td>\n",
       "      <td>0</td>\n",
       "      <td>0</td>\n",
       "    </tr>\n",
       "    <tr>\n",
       "      <th>2</th>\n",
       "      <td>3</td>\n",
       "      <td>0.732209</td>\n",
       "      <td>0.760122</td>\n",
       "      <td>0.454644</td>\n",
       "      <td>0.812990</td>\n",
       "      <td>0.293756</td>\n",
       "      <td>0.914155</td>\n",
       "      <td>0.369602</td>\n",
       "      <td>0.832564</td>\n",
       "      <td>0.865620</td>\n",
       "      <td>...</td>\n",
       "      <td>0</td>\n",
       "      <td>0</td>\n",
       "      <td>0</td>\n",
       "      <td>0</td>\n",
       "      <td>0</td>\n",
       "      <td>0</td>\n",
       "      <td>0</td>\n",
       "      <td>0</td>\n",
       "      <td>0</td>\n",
       "      <td>0</td>\n",
       "    </tr>\n",
       "    <tr>\n",
       "      <th>3</th>\n",
       "      <td>4</td>\n",
       "      <td>0.705142</td>\n",
       "      <td>0.771678</td>\n",
       "      <td>0.153735</td>\n",
       "      <td>0.732893</td>\n",
       "      <td>0.769785</td>\n",
       "      <td>0.934138</td>\n",
       "      <td>0.578930</td>\n",
       "      <td>0.407313</td>\n",
       "      <td>0.868099</td>\n",
       "      <td>...</td>\n",
       "      <td>0</td>\n",
       "      <td>0</td>\n",
       "      <td>0</td>\n",
       "      <td>0</td>\n",
       "      <td>0</td>\n",
       "      <td>0</td>\n",
       "      <td>0</td>\n",
       "      <td>0</td>\n",
       "      <td>0</td>\n",
       "      <td>0</td>\n",
       "    </tr>\n",
       "    <tr>\n",
       "      <th>4</th>\n",
       "      <td>6</td>\n",
       "      <td>0.486063</td>\n",
       "      <td>0.639349</td>\n",
       "      <td>0.496212</td>\n",
       "      <td>0.354186</td>\n",
       "      <td>0.279105</td>\n",
       "      <td>0.382600</td>\n",
       "      <td>0.705940</td>\n",
       "      <td>0.325193</td>\n",
       "      <td>0.440967</td>\n",
       "      <td>...</td>\n",
       "      <td>0</td>\n",
       "      <td>0</td>\n",
       "      <td>0</td>\n",
       "      <td>0</td>\n",
       "      <td>0</td>\n",
       "      <td>0</td>\n",
       "      <td>0</td>\n",
       "      <td>0</td>\n",
       "      <td>0</td>\n",
       "      <td>0</td>\n",
       "    </tr>\n",
       "  </tbody>\n",
       "</table>\n",
       "<p>5 rows × 72 columns</p>\n",
       "</div>"
      ],
      "text/plain": [
       "   id     cont0     cont1     cont2     cont3     cont4     cont5     cont6  \\\n",
       "0   1  0.923191  0.684968  0.124454  0.217886  0.281421  0.881122  0.421650   \n",
       "1   2  0.437627  0.014213  0.357438  0.846127  0.282354  0.440011  0.346230   \n",
       "2   3  0.732209  0.760122  0.454644  0.812990  0.293756  0.914155  0.369602   \n",
       "3   4  0.705142  0.771678  0.153735  0.732893  0.769785  0.934138  0.578930   \n",
       "4   6  0.486063  0.639349  0.496212  0.354186  0.279105  0.382600  0.705940   \n",
       "\n",
       "      cont7     cont8  ...  cat9_L  cat9_G  cat9_H  cat9_O  cat9_A  cat9_J  \\\n",
       "0  0.741413  0.895799  ...       0       0       0       0       0       0   \n",
       "1  0.278495  0.593413  ...       0       0       0       0       0       0   \n",
       "2  0.832564  0.865620  ...       0       0       0       0       0       0   \n",
       "3  0.407313  0.868099  ...       0       0       0       0       0       0   \n",
       "4  0.325193  0.440967  ...       0       0       0       0       0       0   \n",
       "\n",
       "   cat9_M  cat9_C  cat9_D  cat9_E  \n",
       "0       0       0       0       0  \n",
       "1       0       0       0       0  \n",
       "2       0       0       0       0  \n",
       "3       0       0       0       0  \n",
       "4       0       0       0       0  \n",
       "\n",
       "[5 rows x 72 columns]"
      ]
     },
     "execution_count": 306,
     "metadata": {},
     "output_type": "execute_result"
    }
   ],
   "source": [
    "train_oh = oh_pipe.fit_transform(train_cat)\n",
    "train_oh.head()"
   ]
  },
  {
   "cell_type": "code",
   "execution_count": 300,
   "metadata": {},
   "outputs": [
    {
     "data": {
      "text/plain": [
       "['cat5_D', 'cat5_B', 'cat5_A', 'cat5_C']"
      ]
     },
     "execution_count": 300,
     "metadata": {},
     "output_type": "execute_result"
    }
   ],
   "source": [
    "cat5_cols = [col for col in train_oh.columns if col.startswith('cat5')]\n",
    "cat5_cols"
   ]
  },
  {
   "cell_type": "code",
   "execution_count": 301,
   "metadata": {},
   "outputs": [
    {
     "data": {
      "text/html": [
       "<div>\n",
       "<style scoped>\n",
       "    .dataframe tbody tr th:only-of-type {\n",
       "        vertical-align: middle;\n",
       "    }\n",
       "\n",
       "    .dataframe tbody tr th {\n",
       "        vertical-align: top;\n",
       "    }\n",
       "\n",
       "    .dataframe thead th {\n",
       "        text-align: right;\n",
       "    }\n",
       "</style>\n",
       "<table border=\"1\" class=\"dataframe\">\n",
       "  <thead>\n",
       "    <tr style=\"text-align: right;\">\n",
       "      <th></th>\n",
       "      <th>cat5_D</th>\n",
       "      <th>cat5_B</th>\n",
       "      <th>cat5_A</th>\n",
       "      <th>cat5_C</th>\n",
       "    </tr>\n",
       "  </thead>\n",
       "  <tbody>\n",
       "    <tr>\n",
       "      <th>0</th>\n",
       "      <td>1</td>\n",
       "      <td>0</td>\n",
       "      <td>0</td>\n",
       "      <td>0</td>\n",
       "    </tr>\n",
       "    <tr>\n",
       "      <th>1</th>\n",
       "      <td>0</td>\n",
       "      <td>1</td>\n",
       "      <td>0</td>\n",
       "      <td>0</td>\n",
       "    </tr>\n",
       "    <tr>\n",
       "      <th>2</th>\n",
       "      <td>1</td>\n",
       "      <td>0</td>\n",
       "      <td>0</td>\n",
       "      <td>0</td>\n",
       "    </tr>\n",
       "    <tr>\n",
       "      <th>3</th>\n",
       "      <td>1</td>\n",
       "      <td>0</td>\n",
       "      <td>0</td>\n",
       "      <td>0</td>\n",
       "    </tr>\n",
       "    <tr>\n",
       "      <th>4</th>\n",
       "      <td>0</td>\n",
       "      <td>1</td>\n",
       "      <td>0</td>\n",
       "      <td>0</td>\n",
       "    </tr>\n",
       "    <tr>\n",
       "      <th>...</th>\n",
       "      <td>...</td>\n",
       "      <td>...</td>\n",
       "      <td>...</td>\n",
       "      <td>...</td>\n",
       "    </tr>\n",
       "    <tr>\n",
       "      <th>299995</th>\n",
       "      <td>0</td>\n",
       "      <td>1</td>\n",
       "      <td>0</td>\n",
       "      <td>0</td>\n",
       "    </tr>\n",
       "    <tr>\n",
       "      <th>299996</th>\n",
       "      <td>0</td>\n",
       "      <td>1</td>\n",
       "      <td>0</td>\n",
       "      <td>0</td>\n",
       "    </tr>\n",
       "    <tr>\n",
       "      <th>299997</th>\n",
       "      <td>0</td>\n",
       "      <td>1</td>\n",
       "      <td>0</td>\n",
       "      <td>0</td>\n",
       "    </tr>\n",
       "    <tr>\n",
       "      <th>299998</th>\n",
       "      <td>0</td>\n",
       "      <td>1</td>\n",
       "      <td>0</td>\n",
       "      <td>0</td>\n",
       "    </tr>\n",
       "    <tr>\n",
       "      <th>299999</th>\n",
       "      <td>1</td>\n",
       "      <td>0</td>\n",
       "      <td>0</td>\n",
       "      <td>0</td>\n",
       "    </tr>\n",
       "  </tbody>\n",
       "</table>\n",
       "<p>300000 rows × 4 columns</p>\n",
       "</div>"
      ],
      "text/plain": [
       "        cat5_D  cat5_B  cat5_A  cat5_C\n",
       "0            1       0       0       0\n",
       "1            0       1       0       0\n",
       "2            1       0       0       0\n",
       "3            1       0       0       0\n",
       "4            0       1       0       0\n",
       "...        ...     ...     ...     ...\n",
       "299995       0       1       0       0\n",
       "299996       0       1       0       0\n",
       "299997       0       1       0       0\n",
       "299998       0       1       0       0\n",
       "299999       1       0       0       0\n",
       "\n",
       "[300000 rows x 4 columns]"
      ]
     },
     "execution_count": 301,
     "metadata": {},
     "output_type": "execute_result"
    }
   ],
   "source": [
    "train_oh[cat5_cols]"
   ]
  },
  {
   "cell_type": "markdown",
   "metadata": {},
   "source": [
    "## New categories are encoded as zeros for each category column."
   ]
  },
  {
   "cell_type": "code",
   "execution_count": 303,
   "metadata": {},
   "outputs": [
    {
     "data": {
      "text/html": [
       "<div>\n",
       "<style scoped>\n",
       "    .dataframe tbody tr th:only-of-type {\n",
       "        vertical-align: middle;\n",
       "    }\n",
       "\n",
       "    .dataframe tbody tr th {\n",
       "        vertical-align: top;\n",
       "    }\n",
       "\n",
       "    .dataframe thead th {\n",
       "        text-align: right;\n",
       "    }\n",
       "</style>\n",
       "<table border=\"1\" class=\"dataframe\">\n",
       "  <thead>\n",
       "    <tr style=\"text-align: right;\">\n",
       "      <th></th>\n",
       "      <th>cat5_D</th>\n",
       "      <th>cat5_B</th>\n",
       "      <th>cat5_A</th>\n",
       "      <th>cat5_C</th>\n",
       "    </tr>\n",
       "  </thead>\n",
       "  <tbody>\n",
       "    <tr>\n",
       "      <th>0</th>\n",
       "      <td>0</td>\n",
       "      <td>0</td>\n",
       "      <td>0</td>\n",
       "      <td>0</td>\n",
       "    </tr>\n",
       "  </tbody>\n",
       "</table>\n",
       "</div>"
      ],
      "text/plain": [
       "   cat5_D  cat5_B  cat5_A  cat5_C\n",
       "0       0       0       0       0"
      ]
     },
     "execution_count": 303,
     "metadata": {},
     "output_type": "execute_result"
    }
   ],
   "source": [
    "oh_pipe.transform(test_new_cats)[cat5_cols]"
   ]
  },
  {
   "cell_type": "markdown",
   "metadata": {},
   "source": [
    "# Using this in a sklearn Pipeline\n",
    "The sklearn Randomforestregressor does not support categorical variables, so in this example I use one hot encoding for the categorical features. Note that the one hot pipeline defined before can be used as an element in the new pipeline."
   ]
  },
  {
   "cell_type": "code",
   "execution_count": 308,
   "metadata": {},
   "outputs": [],
   "source": [
    "from sklearn.ensemble import RandomForestRegressor\n",
    "p = Pipeline([('oh_trans', oh_pipe), \n",
    "              ('rf', RandomForestRegressor(n_jobs=-2))])"
   ]
  },
  {
   "cell_type": "code",
   "execution_count": 309,
   "metadata": {},
   "outputs": [
    {
     "data": {
      "text/plain": [
       "Pipeline(steps=[('oh_trans',\n",
       "                 Pipeline(steps=[('cat_trans',\n",
       "                                  CategoricalTransform(cat_cols=['cat0', 'cat1',\n",
       "                                                                 'cat2', 'cat3',\n",
       "                                                                 'cat4', 'cat5',\n",
       "                                                                 'cat6', 'cat7',\n",
       "                                                                 'cat8',\n",
       "                                                                 'cat9'])),\n",
       "                                 ('oh_trans', OneHotTransform())])),\n",
       "                ('rf', RandomForestRegressor(n_jobs=-2))])"
      ]
     },
     "execution_count": 309,
     "metadata": {},
     "output_type": "execute_result"
    }
   ],
   "source": [
    "x_train = train.drop(columns=['target','id'])\n",
    "y_train = train['target']\n",
    "p.fit(x_train.head(10000), y_train.head(10000))"
   ]
  },
  {
   "cell_type": "code",
   "execution_count": 310,
   "metadata": {},
   "outputs": [
    {
     "data": {
      "text/plain": [
       "array([7.29935054, 7.77576226, 7.68424659, ..., 7.51558685, 7.40574406,\n",
       "       7.52332792])"
      ]
     },
     "execution_count": 310,
     "metadata": {},
     "output_type": "execute_result"
    }
   ],
   "source": [
    "p.predict(test.drop(columns=['id']))"
   ]
  },
  {
   "cell_type": "code",
   "execution_count": 311,
   "metadata": {},
   "outputs": [
    {
     "data": {
      "text/plain": [
       "{'fit_time': array([3.27622175, 2.31571436, 2.31708813, 2.31778646, 2.32605338]),\n",
       " 'score_time': array([0.05249524, 0.04676676, 0.04955649, 0.05177331, 0.0508647 ]),\n",
       " 'test_score': array([-0.86127785, -0.87747438, -0.86341516, -0.86767243, -0.86399085]),\n",
       " 'train_score': array([-0.3248739 , -0.32360226, -0.32486811, -0.32363932, -0.32612375])}"
      ]
     },
     "execution_count": 311,
     "metadata": {},
     "output_type": "execute_result"
    }
   ],
   "source": [
    "from sklearn.model_selection import cross_validate\n",
    "scores = cross_validate(p, X=x_train.head(10000), y=y_train.head(10000), cv=5, return_train_score = True,\n",
    "                         scoring='neg_root_mean_squared_error')\n",
    "scores"
   ]
  },
  {
   "cell_type": "code",
   "execution_count": 312,
   "metadata": {},
   "outputs": [
    {
     "data": {
      "text/plain": [
       "-0.8667661326947869"
      ]
     },
     "execution_count": 312,
     "metadata": {},
     "output_type": "execute_result"
    }
   ],
   "source": [
    "scores['test_score'].mean()"
   ]
  },
  {
   "cell_type": "code",
   "execution_count": 313,
   "metadata": {},
   "outputs": [
    {
     "data": {
      "text/plain": [
       "array([7.30321088])"
      ]
     },
     "execution_count": 313,
     "metadata": {},
     "output_type": "execute_result"
    }
   ],
   "source": [
    "p.predict(test_new_cats.drop(columns=['id']))"
   ]
  }
 ],
 "metadata": {
  "kernelspec": {
   "display_name": "Python 3",
   "language": "python",
   "name": "python3"
  },
  "language_info": {
   "codemirror_mode": {
    "name": "ipython",
    "version": 3
   },
   "file_extension": ".py",
   "mimetype": "text/x-python",
   "name": "python",
   "nbconvert_exporter": "python",
   "pygments_lexer": "ipython3",
   "version": "3.8.5"
  }
 },
 "nbformat": 4,
 "nbformat_minor": 4
}
